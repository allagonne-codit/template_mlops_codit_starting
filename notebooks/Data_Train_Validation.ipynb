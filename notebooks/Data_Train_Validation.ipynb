{
 "cells": [
  {
   "cell_type": "code",
   "execution_count": 2,
   "metadata": {},
   "outputs": [],
   "source": [
    "# Import necessary libraries\n",
    "import numpy as np\n",
    "import pandas as pd\n",
    "from sklearn.datasets import make_classification\n",
    "from sklearn.ensemble import RandomForestClassifier\n",
    "from sklearn.metrics import accuracy_score\n",
    "import joblib\n",
    "import os"
   ]
  },
  {
   "cell_type": "code",
   "execution_count": 3,
   "metadata": {},
   "outputs": [],
   "source": [
    "# Data generation function\n",
    "def generate_synthetic_data(n_samples=1000, n_features=20):\n",
    "    \"\"\"Generate synthetic classification data\"\"\"\n",
    "    X, y = make_classification(\n",
    "        n_samples=n_samples,\n",
    "        n_features=n_features,\n",
    "        n_informative=15,\n",
    "        n_redundant=5,\n",
    "        random_state=42\n",
    "    )\n",
    "    \n",
    "    # Convert to DataFrame\n",
    "    feature_names = [f'feature_{i}' for i in range(n_features)]\n",
    "    df = pd.DataFrame(X, columns=feature_names)\n",
    "    df['target'] = y\n",
    "    \n",
    "    return df"
   ]
  },
  {
   "cell_type": "code",
   "execution_count": 4,
   "metadata": {},
   "outputs": [],
   "source": [
    "# Save data function\n",
    "def save_data(df, path='data/raw/synthetic_data.csv'):\n",
    "    \"\"\"Save DataFrame to CSV\"\"\"\n",
    "    os.makedirs(os.path.dirname(path), exist_ok=True)\n",
    "    df.to_csv(path, index=False)\n",
    "\n",
    "# Generate and save data\n",
    "df = generate_synthetic_data()\n",
    "save_data(df)"
   ]
  },
  {
   "cell_type": "code",
   "execution_count": 5,
   "metadata": {},
   "outputs": [],
   "source": [
    "# Model training function\n",
    "def train_model(data_path='data/raw/synthetic_data.csv', model_path='models/model.pkl'):\n",
    "    \"\"\"Train a RandomForest model and save it\"\"\"\n",
    "    df = pd.read_csv(data_path)\n",
    "    X = df.drop('target', axis=1)\n",
    "    y = df['target']\n",
    "    \n",
    "    model = RandomForestClassifier(n_estimators=100, random_state=42)\n",
    "    model.fit(X, y)\n",
    "    \n",
    "    os.makedirs(os.path.dirname(model_path), exist_ok=True)\n",
    "    joblib.dump(model, model_path)\n",
    "\n",
    "# Train and save the model\n",
    "train_model()"
   ]
  },
  {
   "cell_type": "code",
   "execution_count": 6,
   "metadata": {},
   "outputs": [],
   "source": [
    "# Model validation function\n",
    "def validate_model(data_path='data/raw/synthetic_data.csv', model_path='models/model.pkl'):\n",
    "    \"\"\"Validate the trained model\"\"\"\n",
    "    model = joblib.load(model_path)\n",
    "    df = pd.read_csv(data_path)\n",
    "    X = df.drop('target', axis=1)\n",
    "    y = df['target']\n",
    "    \n",
    "    y_pred = model.predict(X)\n",
    "    accuracy = accuracy_score(y, y_pred)\n",
    "    \n",
    "    return accuracy"
   ]
  },
  {
   "cell_type": "code",
   "execution_count": 7,
   "metadata": {},
   "outputs": [
    {
     "name": "stdout",
     "output_type": "stream",
     "text": [
      "Model validation accuracy: 1.0000\n"
     ]
    }
   ],
   "source": [
    "# Example usage\n",
    "if __name__ == \"__main__\":\n",
    "    # Generate and save data\n",
    "    df = generate_synthetic_data()\n",
    "    save_data(df)\n",
    "    \n",
    "    # Train and save model\n",
    "    train_model()\n",
    "    \n",
    "    # Validate model\n",
    "    accuracy = validate_model()\n",
    "    print(f\"Model validation accuracy: {accuracy:.4f}\")"
   ]
  }
 ],
 "metadata": {
  "kernelspec": {
   "display_name": "venv",
   "language": "python",
   "name": "python3"
  },
  "language_info": {
   "codemirror_mode": {
    "name": "ipython",
    "version": 3
   },
   "file_extension": ".py",
   "mimetype": "text/x-python",
   "name": "python",
   "nbconvert_exporter": "python",
   "pygments_lexer": "ipython3",
   "version": "3.11.9"
  }
 },
 "nbformat": 4,
 "nbformat_minor": 2
}
